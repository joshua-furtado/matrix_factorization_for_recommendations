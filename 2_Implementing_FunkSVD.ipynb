{
 "cells": [
  {
   "cell_type": "markdown",
   "metadata": {},
   "source": [
    "### Implementing FunkSVD\n",
    "\n",
    "In this notebook we will take a look at writing our own function that performs FunkSVD, which will follow the steps you saw in the previous video.  If you find that you aren't ready to tackle this task on your own, feel free to skip to the following video where you can watch as I walk through the steps.\n",
    "\n",
    "To test our algorithm, we will run it on the subset of the data you worked with earlier.  Run the cell below to get started."
   ]
  },
  {
   "cell_type": "code",
   "execution_count": 3,
   "metadata": {},
   "outputs": [
    {
     "name": "stdout",
     "output_type": "stream",
     "text": [
      "[[10. 10. 10. 10.]\n",
      " [10.  4.  9. 10.]\n",
      " [ 8.  9. 10.  5.]\n",
      " [ 9.  8. 10. 10.]\n",
      " [10.  5.  9.  9.]\n",
      " [ 6.  4. 10.  6.]\n",
      " [ 9.  8. 10.  9.]\n",
      " [10.  5.  9.  8.]\n",
      " [ 7.  8. 10.  8.]\n",
      " [ 9.  5.  9.  7.]\n",
      " [ 9.  8. 10.  8.]\n",
      " [ 9. 10. 10.  9.]\n",
      " [10.  9. 10.  8.]\n",
      " [ 5.  8.  5.  8.]\n",
      " [10.  8. 10. 10.]\n",
      " [ 9.  9. 10. 10.]\n",
      " [ 9.  8.  8.  8.]\n",
      " [10.  8.  1. 10.]\n",
      " [ 5.  6. 10. 10.]\n",
      " [ 8.  7. 10.  7.]]\n"
     ]
    }
   ],
   "source": [
    "import numpy as np\n",
    "import pandas as pd\n",
    "import matplotlib.pyplot as plt\n",
    "from scipy import sparse\n",
    "%matplotlib inline\n",
    "\n",
    "# Read in the datasets\n",
    "movies = pd.read_csv('data/movies_clean.csv')\n",
    "reviews = pd.read_csv('data/reviews_clean.csv')\n",
    "\n",
    "del movies['Unnamed: 0']\n",
    "del reviews['Unnamed: 0']\n",
    "\n",
    "# Create user-by-item matrix\n",
    "user_items = reviews[['user_id', 'movie_id', 'rating', 'timestamp']]\n",
    "user_by_movie = user_items.groupby(['user_id', 'movie_id'])[\n",
    "    'rating'].max().unstack()\n",
    "\n",
    "# Create data subset\n",
    "user_movie_subset = user_by_movie[[73486, 75314,  68646, 99685]].dropna(axis=0)\n",
    "ratings_mat = np.matrix(user_movie_subset)\n",
    "print(ratings_mat)"
   ]
  },
  {
   "cell_type": "markdown",
   "metadata": {},
   "source": [
    "`1.` You will use the **user_movie_subset** matrix to show that your FunkSVD algorithm will converge.  In the below cell, use the comments and document string to assist you as you complete writing your own function to complete FunkSVD.  You may also want to try to complete the function on your own without the assistance of comments.  You may feel free to remove and add to the function in any way that gets you a working solution! \n",
    "\n",
    "**Notice:** There isn't a sigma matrix in this version of the matrix factorization."
   ]
  },
  {
   "cell_type": "code",
   "execution_count": 16,
   "metadata": {},
   "outputs": [],
   "source": [
    "def FunkSVD(ratings_mat, latent_features=4, learning_rate=0.0001, iters=100):\n",
    "    '''\n",
    "    This function performs matrix factorization using a basic form of FunkSVD with no regularization\n",
    "\n",
    "    INPUT:\n",
    "    ratings_mat - (numpy array) a matrix with users as rows, movies as columns, and ratings as values\n",
    "    latent_features - (int) the number of latent features used\n",
    "    learning_rate - (float) the learning rate \n",
    "    iters - (int) the number of iterations\n",
    "\n",
    "    OUTPUT:\n",
    "    user_mat - (numpy array) a user by latent feature matrix\n",
    "    movie_mat - (numpy array) a latent feature by movie matrix\n",
    "    '''\n",
    "\n",
    "    # Set up useful values to be used through the rest of the function\n",
    "    n_users = user_movie_subset.shape[0]  # number of rows in the matrix\n",
    "    n_movies = user_movie_subset.shape[1]  # number of movies in the matrix\n",
    "    num_ratings = n_users * n_movies  # total number of ratings in the matrix\n",
    "\n",
    "    # initialize the user and movie matrices with random values\n",
    "    # helpful link: https://docs.scipy.org/doc/numpy/reference/generated/numpy.random.rand.html\n",
    "    # user matrix filled with random values of shape user x latent\n",
    "    user_mat = np.random.rand(n_users, latent_features)\n",
    "    # movie matrix filled with random values of shape latent x movies\n",
    "    movie_mat = np.random.rand(latent_features, n_movies)\n",
    "\n",
    "    # initialize sse at 0 for first iteration\n",
    "    sse_accum = 0\n",
    "\n",
    "    # header for running results\n",
    "    print(\"Optimization Statistics\")\n",
    "    print(\"Iterations | Mean Squared Error \")\n",
    "\n",
    "    # for each iteration\n",
    "    for k in range(iters):\n",
    "\n",
    "        # update our sse\n",
    "        old_sse = sse_accum\n",
    "        sse_accum = 0\n",
    "\n",
    "        # For each user-movie pair\n",
    "        for i in range(n_users):\n",
    "            for j in range(n_movies):\n",
    "\n",
    "                # if the rating exists\n",
    "                if not np.isnan(ratings_mat[i, j]):\n",
    "\n",
    "                    # compute the error as the actual minus the dot product of the user and movie latent features\n",
    "                    actual_rating = ratings_mat[i, j]\n",
    "                    predicted_rating = np.dot(user_mat[i, :], movie_mat[:, j])\n",
    "                    error = actual_rating - predicted_rating\n",
    "\n",
    "                    # Keep track of the total sum of squared errors for the matrix\n",
    "                    sse_accum += error\n",
    "\n",
    "                    # update the values in each matrix in the direction of the gradient\n",
    "                    user_mat[i, :] = user_mat[i, :] + \\\n",
    "                        (learning_rate * 2 * error *\n",
    "                         np.transpose(movie_mat[:, j]))\n",
    "                    movie_mat[:, j] = movie_mat[:, j] + \\\n",
    "                        (learning_rate * 2 * error *\n",
    "                         np.transpose(user_mat[i, :]))\n",
    "\n",
    "        # print results for iteration\n",
    "\n",
    "    return user_mat, movie_mat"
   ]
  },
  {
   "cell_type": "markdown",
   "metadata": {},
   "source": [
    "`2.` Try out your function on the **user_movie_subset** dataset.  First try 4 latent features, a learning rate of 0.005, and 10 iterations.  When you take the dot product of the resulting U and V matrices, how does the resulting **user_movie** matrix compare to the original subset of the data?"
   ]
  },
  {
   "cell_type": "code",
   "execution_count": 21,
   "metadata": {},
   "outputs": [
    {
     "name": "stdout",
     "output_type": "stream",
     "text": [
      "Optimization Statistics\n",
      "Iterations | Mean Squared Error \n"
     ]
    }
   ],
   "source": [
    "# use your function with 4 latent features, lr of 0.005 and 10 iterations\n",
    "user_mat, movie_mat = FunkSVD(\n",
    "    ratings_mat, latent_features=4, learning_rate=0.005, iters=10)"
   ]
  },
  {
   "cell_type": "code",
   "execution_count": 22,
   "metadata": {},
   "outputs": [
    {
     "name": "stdout",
     "output_type": "stream",
     "text": [
      "[[10.17933684  8.88633434 10.69287322 10.02489309]\n",
      " [ 8.61077579  7.39838645  9.03160167  8.84000272]\n",
      " [ 7.96246256  7.03414162  8.27472042  7.64768569]\n",
      " [ 9.58922053  8.48487101 10.01324555  9.4576471 ]\n",
      " [ 8.41354484  7.41652861  8.96577669  8.60751986]\n",
      " [ 6.8289665   5.91655061  7.1077692   6.99822646]\n",
      " [ 9.05691638  8.1085805   9.69270691  9.23739614]\n",
      " [ 8.20877685  7.0264382   8.56070559  8.32016921]\n",
      " [ 8.47441555  7.20506744  8.90571742  8.62113515]\n",
      " [ 7.87619005  6.66083144  8.03689889  7.61985594]\n",
      " [ 8.80015171  7.7920787   9.22133298  9.00050806]\n",
      " [ 9.41109234  8.39355847 10.0175854   9.7431116 ]\n",
      " [ 9.31529054  8.13301051  9.69437863  9.28338415]\n",
      " [ 6.64739585  6.10021818  6.91449376  6.47785639]\n",
      " [ 9.8294869   8.2071505  10.21068317  9.90053939]\n",
      " [ 9.88632954  8.76014113 10.21051219  9.54170295]\n",
      " [ 8.26889218  7.29898468  8.71837268  8.27733201]\n",
      " [ 7.09835622  6.07032816  7.41567694  7.22400355]\n",
      " [ 8.26989628  7.20575484  8.74113143  8.54795259]\n",
      " [ 8.31352098  7.38566746  8.54468386  7.85211875]]\n",
      "[[10. 10. 10. 10.]\n",
      " [10.  4.  9. 10.]\n",
      " [ 8.  9. 10.  5.]\n",
      " [ 9.  8. 10. 10.]\n",
      " [10.  5.  9.  9.]\n",
      " [ 6.  4. 10.  6.]\n",
      " [ 9.  8. 10.  9.]\n",
      " [10.  5.  9.  8.]\n",
      " [ 7.  8. 10.  8.]\n",
      " [ 9.  5.  9.  7.]\n",
      " [ 9.  8. 10.  8.]\n",
      " [ 9. 10. 10.  9.]\n",
      " [10.  9. 10.  8.]\n",
      " [ 5.  8.  5.  8.]\n",
      " [10.  8. 10. 10.]\n",
      " [ 9.  9. 10. 10.]\n",
      " [ 9.  8.  8.  8.]\n",
      " [10.  8.  1. 10.]\n",
      " [ 5.  6. 10. 10.]\n",
      " [ 8.  7. 10.  7.]]\n"
     ]
    }
   ],
   "source": [
    "# Compare the predicted and actual results\n",
    "print(np.dot(user_mat, movie_mat))\n",
    "print(ratings_mat)"
   ]
  },
  {
   "cell_type": "markdown",
   "metadata": {},
   "source": [
    "**Write your summary here.**"
   ]
  },
  {
   "cell_type": "markdown",
   "metadata": {},
   "source": [
    "`3.` Let's try out the function again on the **user_movie_subset** dataset.  This time we will again use 4 latent features and a learning rate of 0.005.  However, let's bump up the number of iterations to 250.  When you take the dot product of the resulting U and V matrices, how does the resulting **user_movie** matrix compare to the original subset of the data?  What do you notice about your error at the end of the 250 iterations?"
   ]
  },
  {
   "cell_type": "code",
   "execution_count": 23,
   "metadata": {},
   "outputs": [
    {
     "name": "stdout",
     "output_type": "stream",
     "text": [
      "Optimization Statistics\n",
      "Iterations | Mean Squared Error \n"
     ]
    }
   ],
   "source": [
    "# use your function with 4 latent features, lr of 0.005 and 250 iterations\n",
    "user_mat, movie_mat = FunkSVD(\n",
    "    ratings_mat, latent_features=4, learning_rate=0.005, iters=250)"
   ]
  },
  {
   "cell_type": "code",
   "execution_count": 26,
   "metadata": {},
   "outputs": [
    {
     "name": "stdout",
     "output_type": "stream",
     "text": [
      "1.0\n"
     ]
    }
   ],
   "source": [
    "# Compare the predicted and actual results\n",
    "print(np.mean(np.round(np.dot(user_mat, movie_mat)) == ratings_mat))"
   ]
  },
  {
   "cell_type": "markdown",
   "metadata": {},
   "source": [
    "**Write your summary here.**"
   ]
  },
  {
   "cell_type": "markdown",
   "metadata": {},
   "source": [
    "The last time we placed an **np.nan** value into this matrix the entire svd algorithm in python broke.  Let's see if that is still the case using your FunkSVD function.  In the below cell, I have placed a nan into the first cell of your numpy array.  \n",
    "\n",
    "`4.` Use 4 latent features, a learning rate of 0.005, and 250 iterations.  Are you able to run your SVD without it breaking (something that was not true about the python built in)?  Do you get a prediction for the nan value?  What is your prediction for the missing value? Use the cells below to answer these questions."
   ]
  },
  {
   "cell_type": "code",
   "execution_count": 27,
   "metadata": {},
   "outputs": [
    {
     "data": {
      "text/plain": [
       "matrix([[nan, 10., 10., 10.],\n",
       "        [10.,  4.,  9., 10.],\n",
       "        [ 8.,  9., 10.,  5.],\n",
       "        [ 9.,  8., 10., 10.],\n",
       "        [10.,  5.,  9.,  9.],\n",
       "        [ 6.,  4., 10.,  6.],\n",
       "        [ 9.,  8., 10.,  9.],\n",
       "        [10.,  5.,  9.,  8.],\n",
       "        [ 7.,  8., 10.,  8.],\n",
       "        [ 9.,  5.,  9.,  7.],\n",
       "        [ 9.,  8., 10.,  8.],\n",
       "        [ 9., 10., 10.,  9.],\n",
       "        [10.,  9., 10.,  8.],\n",
       "        [ 5.,  8.,  5.,  8.],\n",
       "        [10.,  8., 10., 10.],\n",
       "        [ 9.,  9., 10., 10.],\n",
       "        [ 9.,  8.,  8.,  8.],\n",
       "        [10.,  8.,  1., 10.],\n",
       "        [ 5.,  6., 10., 10.],\n",
       "        [ 8.,  7., 10.,  7.]])"
      ]
     },
     "execution_count": 27,
     "metadata": {},
     "output_type": "execute_result"
    }
   ],
   "source": [
    "# Here we are placing a nan into our original subset matrix\n",
    "ratings_mat[0, 0] = np.nan\n",
    "ratings_mat"
   ]
  },
  {
   "cell_type": "code",
   "execution_count": 28,
   "metadata": {},
   "outputs": [
    {
     "name": "stdout",
     "output_type": "stream",
     "text": [
      "Optimization Statistics\n",
      "Iterations | Mean Squared Error \n"
     ]
    }
   ],
   "source": [
    "# run SVD on the matrix with the missing value\n",
    "# use your function with 4 latent features, lr of 0.005 and 250 iterations\n",
    "user_mat, movie_mat = FunkSVD(\n",
    "    ratings_mat, latent_features=4, learning_rate=0.005, iters=250)"
   ]
  },
  {
   "cell_type": "code",
   "execution_count": 29,
   "metadata": {},
   "outputs": [
    {
     "name": "stdout",
     "output_type": "stream",
     "text": [
      "The predicted value for the missing rating is 10.254275275696557:\n",
      "\n",
      "The actual value for the missing rating is nan:\n",
      "\n",
      "That's right! You just predicted a rating for a user-movie pair that was never rated!\n",
      "But if you look in the original matrix, this was actually a value of 10. Not bad!\n"
     ]
    }
   ],
   "source": [
    "# Run this cell to see if you were able to predict for the missing value\n",
    "preds = np.dot(user_mat, movie_mat)\n",
    "print(\"The predicted value for the missing rating is {}:\".format(preds[0, 0]))\n",
    "print()\n",
    "print(\"The actual value for the missing rating is {}:\".format(\n",
    "    ratings_mat[0, 0]))\n",
    "print()\n",
    "assert np.isnan(preds[0, 0]) == False\n",
    "print(\"That's right! You just predicted a rating for a user-movie pair that was never rated!\")\n",
    "print(\"But if you look in the original matrix, this was actually a value of 10. Not bad!\")"
   ]
  },
  {
   "cell_type": "markdown",
   "metadata": {},
   "source": [
    "Now let's extend this to a more realistic example. Unfortunately, running this function on your entire user-movie matrix is still not something you likely want to do on your local machine.  However, we can see how well this example extends to 1000 users.  In the above portion, you were using a very small subset of data with no missing values.\n",
    "\n",
    "`5.` Given the size of this matrix, this will take quite a bit of time.  Consider the following hyperparameters: 4 latent features, 0.005 learning rate, and 20 iterations.  Grab a snack, take a walk, and this should be done running in a bit."
   ]
  },
  {
   "cell_type": "code",
   "execution_count": 30,
   "metadata": {},
   "outputs": [
    {
     "name": "stdout",
     "output_type": "stream",
     "text": [
      "Optimization Statistics\n",
      "Iterations | Mean Squared Error \n"
     ]
    }
   ],
   "source": [
    "# Setting up a matrix of the first 1000 users with movie ratings\n",
    "first_1000_users = np.matrix(user_by_movie.head(1000))\n",
    "\n",
    "# perform funkSVD on the matrix of the top 1000 users\n",
    "# fit to 1000 users with 4 latent features, lr of 0.005, and 20 iterations\n",
    "user_mat, movie_mat = FunkSVD(\n",
    "    first_1000_users, latent_features=4, learning_rate=0.005, iters=20)"
   ]
  },
  {
   "cell_type": "markdown",
   "metadata": {},
   "source": [
    "`6.` Now that you have a set of predictions for each user-movie pair,  let's answer a few questions about your results. Provide the correct values for each of the variables below, and check your solutions using the tests below."
   ]
  },
  {
   "cell_type": "code",
   "execution_count": 44,
   "metadata": {},
   "outputs": [
    {
     "name": "stdout",
     "output_type": "stream",
     "text": [
      "The number of actual ratings in the first_1000_users is 10852.0.\n",
      "\n",
      "The number of ratings made for user-movie pairs that didn't have ratings is 31234148.0\n"
     ]
    }
   ],
   "source": [
    "# Replace each of the comments below with the correct values\n",
    "num_ratings = np.mean(~np.isnan(first_1000_users)) * np.shape(first_1000_users)[\n",
    "    0] * np.shape(first_1000_users)[1]  # How many actual ratings exist in first_1000_users\n",
    "# num_ratings = np.count_nonzero(~np.isnan(first_1000_users))\n",
    "print(\"The number of actual ratings in the first_1000_users is {}.\".format(num_ratings))\n",
    "print()\n",
    "\n",
    "\n",
    "# How many ratings did we make for user-movie pairs that didn't actually have ratings\n",
    "ratings_for_missing = np.shape(first_1000_users)[\n",
    "    0] * np.shape(first_1000_users)[1] - num_ratings\n",
    "print(\"The number of ratings made for user-movie pairs that didn't have ratings is {}\".format(ratings_for_missing))"
   ]
  },
  {
   "cell_type": "code",
   "execution_count": 45,
   "metadata": {},
   "outputs": [
    {
     "name": "stdout",
     "output_type": "stream",
     "text": [
      "Nice job!  Looks like you have predictions made for all the missing user-movie pairs! But I still have one question... How good are they?\n"
     ]
    }
   ],
   "source": [
    "# Test your results against the solution\n",
    "assert num_ratings == 10852, \"Oops!  The number of actual ratings doesn't quite look right.\"\n",
    "assert ratings_for_missing == 31234148, \"Oops!  The number of movie-user pairs that you made ratings for that didn't actually have ratings doesn't look right.\"\n",
    "\n",
    "# Make sure you made predictions on all the missing user-movie pairs\n",
    "preds = np.dot(user_mat, movie_mat)\n",
    "assert np.isnan(preds).sum() == 0\n",
    "print(\"Nice job!  Looks like you have predictions made for all the missing user-movie pairs! But I still have one question... How good are they?\")"
   ]
  },
  {
   "cell_type": "code",
   "execution_count": null,
   "metadata": {
    "collapsed": true
   },
   "outputs": [],
   "source": []
  }
 ],
 "metadata": {
  "kernelspec": {
   "display_name": "Python 3",
   "language": "python",
   "name": "python3"
  },
  "language_info": {
   "codemirror_mode": {
    "name": "ipython",
    "version": 3
   },
   "file_extension": ".py",
   "mimetype": "text/x-python",
   "name": "python",
   "nbconvert_exporter": "python",
   "pygments_lexer": "ipython3",
   "version": "3.7.9"
  }
 },
 "nbformat": 4,
 "nbformat_minor": 2
}
